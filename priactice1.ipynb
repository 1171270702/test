{
 "cells": [
  {
   "cell_type": "code",
   "execution_count": 2,
   "metadata": {},
   "outputs": [
    {
     "name": "stdout",
     "output_type": "stream",
     "text": [
      "what's your name ？wew\n",
      "hello,wew\n",
      "sum =200\n"
     ]
    }
   ],
   "source": [
    "name = input(\"what's your name ？\")\n",
    "sum = 100 +100\n",
    "print('hello,%s'%name)\n",
    "print('sum =%d'%sum)"
   ]
  },
  {
   "cell_type": "code",
   "execution_count": 9,
   "metadata": {},
   "outputs": [
    {
     "name": "stdout",
     "output_type": "stream",
     "text": [
      "plase input score:56\n",
      "Fail\n"
     ]
    }
   ],
   "source": [
    "#条件判断\n",
    "score = input(\"plase input score:\")\n",
    "score = int(score)\n",
    "if score >= 90:\n",
    "    print('Excellent')\n",
    "else:\n",
    "    if score  <  60:\n",
    "        print('Fail')\n",
    "    else:\n",
    "        print('Good Job')"
   ]
  },
  {
   "cell_type": "code",
   "execution_count": 15,
   "metadata": {},
   "outputs": [
    {
     "name": "stdout",
     "output_type": "stream",
     "text": [
      "55\n",
      "55\n"
     ]
    }
   ],
   "source": [
    "sum = 0\n",
    "for number in range(11):\n",
    "    sum = sum + number\n",
    "print(sum)\n",
    "\n",
    "#while 循环\n",
    "sum = 0\n",
    "number = 1\n",
    "while number < 11:\n",
    "    sum = sum + number\n",
    "    number += 1\n",
    "print(sum)"
   ]
  },
  {
   "cell_type": "code",
   "execution_count": 21,
   "metadata": {},
   "outputs": [
    {
     "name": "stdout",
     "output_type": "stream",
     "text": [
      "['zhangfei', 'guanyu', 'liubei', 'dainwei']\n",
      "4\n",
      "['lvbu', 'guanyu', 'liubei']\n"
     ]
    }
   ],
   "source": [
    "lists = ['zhangfei',\"guanyu\",'liubei']\n",
    "lists.append(\"dainwei\")\n",
    "print(lists)\n",
    "print(len(lists))\n",
    "lists.insert(1,\"lvbu\")\n",
    "lists.pop()\n",
    "lists.pop(0)\n",
    "print(lists)"
   ]
  },
  {
   "cell_type": "code",
   "execution_count": 24,
   "metadata": {},
   "outputs": [
    {
     "name": "stdout",
     "output_type": "stream",
     "text": [
      "<class 'tuple'>\n"
     ]
    }
   ],
   "source": [
    "tuples = ('zhangfei',65)\n",
    "print(type(tuples))"
   ]
  },
  {
   "cell_type": "code",
   "execution_count": 28,
   "metadata": {},
   "outputs": [
    {
     "name": "stdout",
     "output_type": "stream",
     "text": [
      "<class 'tuple'>\n",
      "('zhangfei', 'guanyu')\n"
     ]
    }
   ],
   "source": [
    "tuples = ('zhangfei',65)\n",
    "print(type(tuples))\n",
    "#print(tuples[({'zhangfei':65,'guanyu':99})\n",
    "print(tuple({'zhangfei':65, 'guanyu':99}))"
   ]
  },
  {
   "cell_type": "code",
   "execution_count": 30,
   "metadata": {},
   "outputs": [
    {
     "name": "stdout",
     "output_type": "stream",
     "text": [
      "(123, 'zhangfei', 'guanyu', 'liubei')\n"
     ]
    }
   ],
   "source": [
    "temp_list = [123,'zhangfei','guanyu','liubei']\n",
    "temp_tuple = tuple(temp_list)\n",
    "print(temp_tuple)"
   ]
  },
  {
   "cell_type": "code",
   "execution_count": 31,
   "metadata": {},
   "outputs": [
    {
     "name": "stdout",
     "output_type": "stream",
     "text": [
      "{'guanyu': 96, 'zhangfei': 95, 'zhaoyun': 98}\n"
     ]
    }
   ],
   "source": [
    "score = {'guanyu':96,'zhangfei':95}\n",
    "score['zhaoyun'] = 98\n",
    "print(score)"
   ]
  },
  {
   "cell_type": "code",
   "execution_count": 34,
   "metadata": {},
   "outputs": [
    {
     "name": "stdout",
     "output_type": "stream",
     "text": [
      "{'zhangfei': 95, 'zhaoyun': 98}\n"
     ]
    }
   ],
   "source": [
    "score.pop('guanyu')\n",
    "print(score)"
   ]
  },
  {
   "cell_type": "code",
   "execution_count": 36,
   "metadata": {},
   "outputs": [
    {
     "name": "stdout",
     "output_type": "stream",
     "text": [
      "True\n"
     ]
    }
   ],
   "source": [
    "print('zhangfei' in score)"
   ]
  },
  {
   "cell_type": "code",
   "execution_count": 37,
   "metadata": {},
   "outputs": [
    {
     "name": "stdout",
     "output_type": "stream",
     "text": [
      "95\n"
     ]
    }
   ],
   "source": [
    "print(score.get('zhangfei'))"
   ]
  },
  {
   "cell_type": "code",
   "execution_count": 38,
   "metadata": {},
   "outputs": [
    {
     "name": "stdout",
     "output_type": "stream",
     "text": [
      "95\n"
     ]
    }
   ],
   "source": [
    "print(score['zhangfei'])"
   ]
  },
  {
   "cell_type": "code",
   "execution_count": 3,
   "metadata": {},
   "outputs": [
    {
     "name": "stdout",
     "output_type": "stream",
     "text": [
      "(3,)\n",
      "(4, 3)\n",
      "int32\n",
      "[[ 1  2  3]\n",
      " [ 4 10  6]\n",
      " [ 7  8  9]\n",
      " [ 1  2  3]]\n"
     ]
    }
   ],
   "source": [
    "import numpy as np\n",
    "#ndarray使用\n",
    "def work1():\n",
    "    a = np.array([1,2,3])\n",
    "    b = np.array([[1,2,3],[4,5,6],[7,8,9],[1,2,3]])\n",
    "    b[1,1] = 10\n",
    "    print(a.shape)\n",
    "    print(b.shape)\n",
    "    print(a.dtype)\n",
    "    print(b)\n",
    "work1()"
   ]
  },
  {
   "cell_type": "code",
   "execution_count": 13,
   "metadata": {},
   "outputs": [
    {
     "name": "stdout",
     "output_type": "stream",
     "text": [
      "28.25\n",
      "77.5\n",
      "93.25\n",
      "93.75\n"
     ]
    }
   ],
   "source": [
    "import numpy as np\n",
    "def work2():\n",
    "    persontype = np.dtype({'names':['name','age','chinese','math','english'],\\\n",
    "                          'formats':['S32','i','i','i','f']})\n",
    "    peoples = np.array([(\"zhangfei\",32,75,100,90),(\"guanyu\",24,85,96,88.5),\\\n",
    "                        (\"zhaoyun\",28,85,92,96.5),(\"huangzhong\",29,65,85,100)],\\\n",
    "                       dtype = persontype)\n",
    "    ages = peoples['age']\n",
    "    chineses = peoples['chinese']\n",
    "    englishs = peoples['english']\n",
    "    maths = peoples['math']\n",
    "    print(np.mean(ages))\n",
    "    print(np.mean(chineses))\n",
    "    print(np.mean(maths))\n",
    "    print(np.mean(englishs))\n",
    "work2()"
   ]
  },
  {
   "cell_type": "code",
   "execution_count": 25,
   "metadata": {},
   "outputs": [
    {
     "name": "stdout",
     "output_type": "stream",
     "text": [
      "x1= [1 3 5 7 9]\n",
      "x2= [1. 3. 5. 7. 9.]\n",
      "[ 2.  6. 10. 14. 18.]\n",
      "[0. 0. 0. 0. 0.]\n",
      "[ 1.  9. 25. 49. 81.]\n",
      "[1. 1. 1. 1. 1.]\n",
      "[1.00000000e+00 2.70000000e+01 3.12500000e+03 8.23543000e+05\n",
      " 3.87420489e+08]\n",
      "[0. 0. 0. 0. 0.]\n"
     ]
    }
   ],
   "source": [
    "import numpy as np\n",
    "x1 = np.arange(1,11,2)\n",
    "x2 = np.linspace(1,9,5)\n",
    "print('x1=',x1)\n",
    "print('x2=',x2)\n",
    "print(np.add(x1,x2))\n",
    "print(np.subtract(x1,x2))\n",
    "print(np.multiply(x1,x2))\n",
    "print(np.divide(x1,x2))\n",
    "print(np.power(x1,x2))\n",
    "print(np.remainder(x1,x2))"
   ]
  },
  {
   "cell_type": "markdown",
   "metadata": {},
   "source": [
    "# numpy中统计函数的使用\n"
   ]
  },
  {
   "cell_type": "code",
   "execution_count": 27,
   "metadata": {},
   "outputs": [
    {
     "name": "stdout",
     "output_type": "stream",
     "text": [
      "[[1 2 3]\n",
      " [4 5 6]\n",
      " [7 8 9]]\n",
      "--------------------\n",
      "1\n",
      "[1 2 3]\n",
      "[1 4 7]\n",
      "9\n",
      "[3 6 9]\n",
      "[7 8 9]\n"
     ]
    }
   ],
   "source": [
    "import numpy as np\n",
    "def work1():\n",
    "    a = np.array([[1,2,3],[4,5,6],[7,8,9]])\n",
    "    print(a)\n",
    "    print('-'*20)\n",
    "    print(np.min(a))\n",
    "    print(np.min(a,0))#  每一列 最小值\n",
    "    print(np.min(a,1))#每一行 最小值\n",
    "    print(np.max(a))\n",
    "    print(np.max(a,1))\n",
    "    print(np.max(a,0))\n",
    "work1()"
   ]
  },
  {
   "cell_type": "code",
   "execution_count": 39,
   "metadata": {},
   "outputs": [
    {
     "name": "stdout",
     "output_type": "stream",
     "text": [
      "5.0\n",
      "[4. 5. 6.]\n",
      "[2. 5. 8.]\n"
     ]
    }
   ],
   "source": [
    "import numpy as np\n",
    "def work2():\n",
    "    a = np.array([[1,2,3],[4,5,6],[7,8,9]])\n",
    "    #a = np.array([1,2,3,4,5,6,7,8,9])\n",
    "    print(np.percentile(a,50))\n",
    "    print(np.percentile(a,50,axis = 0))\n",
    "    print(np.percentile(a,50,axis = 1))\n",
    "    \n",
    "    \n",
    "    \n",
    "work2()"
   ]
  },
  {
   "cell_type": "code",
   "execution_count": 44,
   "metadata": {},
   "outputs": [
    {
     "name": "stdout",
     "output_type": "stream",
     "text": [
      "5.0\n",
      "[4. 5. 6.]\n",
      "[2. 5. 8.]\n",
      "5.0\n",
      "[4. 5. 6.]\n",
      "[2. 5. 8.]\n"
     ]
    }
   ],
   "source": [
    "import numpy as np\n",
    "def work3():\n",
    "    a = np.array([[1,2,3],[4,5,6],[7,8,9]])\n",
    "    #a = [1,2,3,4]\n",
    "    print(np.median(a))\n",
    "    print(np.median(a,axis=0))\n",
    "    print(np.median(a,axis=1))\n",
    "    print(np.mean(a))\n",
    "    print(np.mean(a,axis=0))\n",
    "    print(np.mean(a,axis=1))\n",
    "\n",
    "    \n",
    "work3()\n",
    "    "
   ]
  },
  {
   "cell_type": "code",
   "execution_count": 46,
   "metadata": {},
   "outputs": [
    {
     "name": "stdout",
     "output_type": "stream",
     "text": [
      "2.5\n",
      "3.0\n"
     ]
    }
   ],
   "source": [
    "import numpy as np\n",
    "a = np.array([1,2,3,4])\n",
    "weights = np.array([1,2,3,4])\n",
    "print(np.average(a))\n",
    "print(np.average(a,weights = weights))"
   ]
  },
  {
   "cell_type": "code",
   "execution_count": 47,
   "metadata": {},
   "outputs": [
    {
     "name": "stdout",
     "output_type": "stream",
     "text": [
      "1.118033988749895\n",
      "1.25\n"
     ]
    }
   ],
   "source": [
    "import numpy \n",
    "a = numpy.array([1,2,3,4])\n",
    "print(numpy.std(a))#标准差\n",
    "print(numpy.var(a))#方差"
   ]
  },
  {
   "cell_type": "code",
   "execution_count": 50,
   "metadata": {},
   "outputs": [
    {
     "name": "stdout",
     "output_type": "stream",
     "text": [
      "[[4 3 2]\n",
      " [2 4 1]]\n",
      "[[2 3 4]\n",
      " [1 2 4]]\n",
      "[1 2 2 3 4 4]\n",
      "[[2 3 1]\n",
      " [4 4 2]]\n",
      "[[2 3 4]\n",
      " [1 2 4]]\n"
     ]
    }
   ],
   "source": [
    "import numpy as np\n",
    "a = np.array([[4,3,2],[2,4,1]])\n",
    "print(a)\n",
    "print(np.sort(a))\n",
    "print(np.sort(a,axis = None))\n",
    "print(np.sort(a,axis = 0))\n",
    "print(np.sort(a,axis = 1))"
   ]
  },
  {
   "cell_type": "code",
   "execution_count": 52,
   "metadata": {},
   "outputs": [
    {
     "name": "stdout",
     "output_type": "stream",
     "text": [
      "<class 'list'>\n",
      "[1, 2, 2, 3, 4, 4]\n",
      "[4, 4, 3, 2, 2, 1]\n"
     ]
    }
   ],
   "source": [
    "a = [4,3,2,2,4,1]\n",
    "print(type(a))\n",
    "a.sort()\n",
    "print(a)\n",
    "a.sort(reverse  = True)\n",
    "print(a)"
   ]
  },
  {
   "cell_type": "code",
   "execution_count": null,
   "metadata": {},
   "outputs": [],
   "source": []
  }
 ],
 "metadata": {
  "kernelspec": {
   "display_name": "Python 3",
   "language": "python",
   "name": "python3"
  },
  "language_info": {
   "codemirror_mode": {
    "name": "ipython",
    "version": 3
   },
   "file_extension": ".py",
   "mimetype": "text/x-python",
   "name": "python",
   "nbconvert_exporter": "python",
   "pygments_lexer": "ipython3",
   "version": "3.6.4"
  }
 },
 "nbformat": 4,
 "nbformat_minor": 2
}
