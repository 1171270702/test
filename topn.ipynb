{
 "cells": [
  {
   "cell_type": "code",
   "execution_count": 24,
   "metadata": {},
   "outputs": [
    {
     "name": "stdout",
     "output_type": "stream",
     "text": [
      "原数组：[58, 26, 45, 18, 22, 39, 96, 75, 80, 65, 63, 28]\n",
      "建立小顶堆数组 [18, 22, 45, 58, 26, 39, 96, 75, 80, 65, 63, 28]\n",
      "数组进行Top-N调整：[63, 65, 80, 75, 96, 18, 22, 26, 39, 45, 58, 28]\n"
     ]
    }
   ],
   "source": [
    "'''\n",
    "取十亿前1000个数\n",
    "堆得性质  ：每一个节点比它的左右子节点小，\n",
    "先取前N个数，构成小顶堆，及在内存中维护一个1000数的小顶堆\n",
    "然后对文件读取数据，和对顶比较\n",
    "if 比对顶小 ，则丢弃\n",
    "if 比对顶大，替换根节点，并且调整对，保持小顶堆的性质\n",
    "所有数据处理完得到的即是Top-N\n",
    "'''\n",
    "\n",
    "\n",
    "class TopN:\n",
    "    #父节点下表\n",
    "    def parent(self,n):\n",
    "        return int((n-1)/2)  # 节点从0 开始 eg: 1和2 的父节点都为0\n",
    "    \n",
    "    \n",
    "    #左节点下表\n",
    "    def left(self,n):\n",
    "        return 2*n+1\n",
    "    \n",
    "    #右节点下表\n",
    "    def right(self,n):\n",
    "        return 2*n+2\n",
    "    \n",
    "    \n",
    "    #构建小顶堆，保证父节点小于左右子节点\n",
    "    def buildHeap(self,n,data):\n",
    "        for i in range(1,n):\n",
    "            t = i\n",
    "            #调整堆，如果节点比父亲节点小，则交换\n",
    "            while t!=0 and data[t] < data[self.parent(t)]:\n",
    "                data[t],data[self.parent(t)] = data[self.parent(t)],data[t]\n",
    "                t = self.parent(t)\n",
    "        print(\"建立小顶堆数组\",data)\n",
    "    \n",
    "    \n",
    "    #调整data[i]\n",
    "    def adjust(self,i,n,data):\n",
    "        if data[i] <= data[0]:\n",
    "            return\n",
    "        #置换堆顶\n",
    "        data[i],data[0] = data[0],data[i]\n",
    "        \n",
    "        \n",
    "        #调整堆顶\n",
    "        t = 0\n",
    "        while (self.left(t) < n and data[self.left(t)] < data[t]) or (self.right(t) < n and data[self.right(t)] < data[t]):\n",
    "        #while (self.left(t) < n and data[self.left(t)]< data[t]) or (self.right(t) < n and data[self.right(t)<data[t]:\n",
    "            if self.right(t) < n and data[self.right(t)] < data[self.left(t)]:\n",
    "            #if self.right(t) < n and data[self.right(t)] < data[self.left(t)]:                                                                                    \n",
    "                #右孩子更小，置换右孩子\n",
    "                data[t],data[self.right(t)] = data[self.right(t)],data[t]\n",
    "                t = self.right(t)\n",
    "            else:\n",
    "                # 否则 置换左孩子\n",
    "                data[t],data[self.left(t)] = data[self.left(t)],data[t]\n",
    "                t = self.left(t)\n",
    "    #寻找topN ，调整data，将topN排到最前边\n",
    "    #def findTopN(self, n, data):\n",
    "    def findTopN(self, n, data):\n",
    "        #先构建n个数的小顶堆\n",
    "        #self.buildHeap(n,data)\n",
    "        self.buildHeap(n, data);\n",
    "        #n往后的数进行调整\n",
    "        for i in range(n,len(data)):\n",
    "            self.adjust(i,n,data)\n",
    "        return data\n",
    "                                       \n",
    "                                       \n",
    "#第一组数据\n",
    "arr1 = [58,26,45,18,22,39,96,75,80,65,63,28]\n",
    "print(\"原数组：\"+str(arr1))\n",
    "topn = TopN()\n",
    "result = topn.findTopN(5,arr1)\n",
    "print(\"数组进行Top-N调整：\"+str(result))\n",
    "            "
   ]
  },
  {
   "cell_type": "code",
   "execution_count": 25,
   "metadata": {},
   "outputs": [
    {
     "name": "stdout",
     "output_type": "stream",
     "text": [
      "原数组：[768, 330, 373, 846, 12, 350, 450, 457, 728, 55, 833, 93, 431, 178, 564, 356, 539, 83, 152, 522, 176, 806, 641, 395, 20, 434, 143, 287, 173, 206, 626, 527, 187, 463, 856, 581, 767, 796, 939, 866, 843, 334, 780, 789, 942, 564, 938, 581, 134, 689, 525, 147, 185, 408, 152, 614, 841, 16, 971, 687, 560, 568, 689, 756, 511, 337, 855, 383, 853, 742, 562, 571, 590, 234, 579, 964, 394, 310, 839, 21, 212, 909, 79, 765, 70, 72, 882, 426, 698, 717, 121, 251, 362, 915, 125, 551, 871, 67, 469, 879]\n",
      "建立小顶堆数组 [12, 330, 373, 846, 768, 350, 450, 457, 728, 55, 833, 93, 431, 178, 564, 356, 539, 83, 152, 522, 176, 806, 641, 395, 20, 434, 143, 287, 173, 206, 626, 527, 187, 463, 856, 581, 767, 796, 939, 866, 843, 334, 780, 789, 942, 564, 938, 581, 134, 689, 525, 147, 185, 408, 152, 614, 841, 16, 971, 687, 560, 568, 689, 756, 511, 337, 855, 383, 853, 742, 562, 571, 590, 234, 579, 964, 394, 310, 839, 21, 212, 909, 79, 765, 70, 72, 882, 426, 698, 717, 121, 251, 362, 915, 125, 551, 871, 67, 469, 879]\n",
      "数组进行Top-N调整：[938, 939, 971, 964, 942, 12, 330, 350, 373, 55, 450, 93, 431, 178, 457, 356, 539, 83, 152, 522, 176, 564, 641, 395, 20, 434, 143, 287, 173, 206, 626, 527, 187, 463, 728, 581, 767, 768, 796, 806, 833, 334, 780, 789, 843, 564, 846, 581, 134, 689, 525, 147, 185, 408, 152, 614, 841, 16, 856, 687, 560, 568, 689, 756, 511, 337, 855, 383, 853, 742, 562, 571, 590, 234, 579, 866, 394, 310, 839, 21, 212, 909, 79, 765, 70, 72, 882, 426, 698, 717, 121, 251, 362, 915, 125, 551, 871, 67, 469, 879]\n"
     ]
    }
   ],
   "source": [
    "import random\n",
    "tempList = []\n",
    "for i in range(100):\n",
    "    temp = random.randint(0, 1000)\n",
    "    tempList.append(temp)\n",
    "print(\"原数组：\" + str(tempList))\n",
    "topn = TopN()\n",
    "result = topn.findTopN(5, tempList)\n",
    "print(\"数组进行Top-N调整：\" + str(result))"
   ]
  },
  {
   "cell_type": "code",
   "execution_count": null,
   "metadata": {},
   "outputs": [],
   "source": []
  }
 ],
 "metadata": {
  "kernelspec": {
   "display_name": "Python 3",
   "language": "python",
   "name": "python3"
  },
  "language_info": {
   "codemirror_mode": {
    "name": "ipython",
    "version": 3
   },
   "file_extension": ".py",
   "mimetype": "text/x-python",
   "name": "python",
   "nbconvert_exporter": "python",
   "pygments_lexer": "ipython3",
   "version": "3.6.4"
  }
 },
 "nbformat": 4,
 "nbformat_minor": 2
}
